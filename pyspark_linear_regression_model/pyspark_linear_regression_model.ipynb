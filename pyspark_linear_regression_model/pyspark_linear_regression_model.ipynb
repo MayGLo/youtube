{
 "cells": [
  {
   "cell_type": "markdown",
   "id": "0228d6c9",
   "metadata": {},
   "source": [
    "### Import and init spark"
   ]
  },
  {
   "cell_type": "code",
   "execution_count": 8,
   "id": "b65ff0e9",
   "metadata": {},
   "outputs": [
    {
     "name": "stderr",
     "output_type": "stream",
     "text": [
      "WARNING: An illegal reflective access operation has occurred\n",
      "WARNING: Illegal reflective access by org.apache.spark.unsafe.Platform (file:/usr/local/spark-3.1.2-bin-hadoop3.2/jars/spark-unsafe_2.12-3.1.2.jar) to constructor java.nio.DirectByteBuffer(long,int)\n",
      "WARNING: Please consider reporting this to the maintainers of org.apache.spark.unsafe.Platform\n",
      "WARNING: Use --illegal-access=warn to enable warnings of further illegal reflective access operations\n",
      "WARNING: All illegal access operations will be denied in a future release\n",
      "21/07/25 08:57:54 WARN NativeCodeLoader: Unable to load native-hadoop library for your platform... using builtin-java classes where applicable\n",
      "Using Spark's default log4j profile: org/apache/spark/log4j-defaults.properties\n",
      "Setting default log level to \"WARN\".\n",
      "To adjust logging level use sc.setLogLevel(newLevel). For SparkR, use setLogLevel(newLevel).\n"
     ]
    }
   ],
   "source": [
    "from pyspark.sql import SparkSession\n",
    "spark = SparkSession.builder.master(\"local\").appName(\"linear_regression_model\").getOrCreate()"
   ]
  },
  {
   "cell_type": "markdown",
   "id": "d6e0f79f",
   "metadata": {},
   "source": [
    "### Read real estate dataset"
   ]
  },
  {
   "cell_type": "code",
   "execution_count": 37,
   "id": "43c416a3",
   "metadata": {},
   "outputs": [],
   "source": [
    "real_estate = spark.read.option(\"inferSchema\", \"true\").csv(\"real_estate.csv\",header=True)"
   ]
  },
  {
   "cell_type": "code",
   "execution_count": 38,
   "id": "1d34d5f0",
   "metadata": {},
   "outputs": [
    {
     "name": "stdout",
     "output_type": "stream",
     "text": [
      "root\n",
      " |-- No: integer (nullable = true)\n",
      " |-- X1 transaction date: double (nullable = true)\n",
      " |-- X2 house age: double (nullable = true)\n",
      " |-- X3 distance to the nearest MRT station: double (nullable = true)\n",
      " |-- X4 number of convenience stores: integer (nullable = true)\n",
      " |-- X5 latitude: double (nullable = true)\n",
      " |-- X6 longitude: double (nullable = true)\n",
      " |-- Y house price of unit area: double (nullable = true)\n",
      "\n"
     ]
    }
   ],
   "source": [
    "real_estate.printSchema()"
   ]
  },
  {
   "cell_type": "code",
   "execution_count": null,
   "id": "4aea967b",
   "metadata": {},
   "outputs": [],
   "source": []
  },
  {
   "cell_type": "code",
   "execution_count": 39,
   "id": "aa5221c9",
   "metadata": {},
   "outputs": [
    {
     "name": "stdout",
     "output_type": "stream",
     "text": [
      "+---+-------------------+------------+--------------------------------------+-------------------------------+-----------+------------+--------------------------+\n",
      "| No|X1 transaction date|X2 house age|X3 distance to the nearest MRT station|X4 number of convenience stores|X5 latitude|X6 longitude|Y house price of unit area|\n",
      "+---+-------------------+------------+--------------------------------------+-------------------------------+-----------+------------+--------------------------+\n",
      "|  1|           2012.917|        32.0|                              84.87882|                             10|   24.98298|   121.54024|                      37.9|\n",
      "|  2|           2012.917|        19.5|                              306.5947|                              9|   24.98034|   121.53951|                      42.2|\n",
      "+---+-------------------+------------+--------------------------------------+-------------------------------+-----------+------------+--------------------------+\n",
      "only showing top 2 rows\n",
      "\n"
     ]
    }
   ],
   "source": [
    "real_estate.show(2)"
   ]
  },
  {
   "cell_type": "code",
   "execution_count": 40,
   "id": "2f293640",
   "metadata": {},
   "outputs": [
    {
     "name": "stdout",
     "output_type": "stream",
     "text": [
      "+-------+-----------------+-------------------+------------------+--------------------------------------+-------------------------------+--------------------+--------------------+--------------------------+\n",
      "|summary|               No|X1 transaction date|      X2 house age|X3 distance to the nearest MRT station|X4 number of convenience stores|         X5 latitude|        X6 longitude|Y house price of unit area|\n",
      "+-------+-----------------+-------------------+------------------+--------------------------------------+-------------------------------+--------------------+--------------------+--------------------------+\n",
      "|  count|              414|                414|               414|                                   414|                            414|                 414|                 414|                       414|\n",
      "|   mean|            207.5| 2013.1489710144933| 17.71256038647343|                    1083.8856889130436|              4.094202898550725|  24.969030072463745|  121.53336108695667|         37.98019323671498|\n",
      "| stddev|119.6557562342907| 0.2819672402629999|11.392484533242524|                     1262.109595407851|             2.9455618056636177|0.012410196590450208|0.015347183004592374|        13.606487697735316|\n",
      "|    min|                1|           2012.667|               0.0|                              23.38284|                              0|            24.93207|           121.47353|                       7.6|\n",
      "|    max|              414|           2013.583|              43.8|                              6488.021|                             10|            25.01459|           121.56627|                     117.5|\n",
      "+-------+-----------------+-------------------+------------------+--------------------------------------+-------------------------------+--------------------+--------------------+--------------------------+\n",
      "\n"
     ]
    }
   ],
   "source": [
    "real_estate.describe().show()"
   ]
  },
  {
   "cell_type": "markdown",
   "id": "288751b8",
   "metadata": {},
   "source": [
    "### linear regressor from spark ml lib"
   ]
  },
  {
   "cell_type": "code",
   "execution_count": 41,
   "id": "af56c8bd",
   "metadata": {},
   "outputs": [
    {
     "data": {
      "text/plain": [
       "['No',\n",
       " 'X1 transaction date',\n",
       " 'X2 house age',\n",
       " 'X3 distance to the nearest MRT station',\n",
       " 'X4 number of convenience stores',\n",
       " 'X5 latitude',\n",
       " 'X6 longitude',\n",
       " 'Y house price of unit area']"
      ]
     },
     "execution_count": 41,
     "metadata": {},
     "output_type": "execute_result"
    }
   ],
   "source": [
    "## input colums\n",
    "real_estate.columns"
   ]
  },
  {
   "cell_type": "code",
   "execution_count": 42,
   "id": "3efce595",
   "metadata": {},
   "outputs": [],
   "source": [
    "from pyspark.ml.linalg import Vectors\n",
    "from pyspark.ml.feature import VectorAssembler"
   ]
  },
  {
   "cell_type": "code",
   "execution_count": 43,
   "id": "d39e3ecc",
   "metadata": {},
   "outputs": [],
   "source": [
    "assembler = VectorAssembler(inputCols=[ \n",
    " 'X1 transaction date',\n",
    " 'X2 house age',\n",
    " 'X3 distance to the nearest MRT station',\n",
    " 'X4 number of convenience stores',\n",
    " 'X5 latitude',\n",
    " 'X6 longitude'],\n",
    " outputCol='features')"
   ]
  },
  {
   "cell_type": "code",
   "execution_count": 44,
   "id": "a39b117c",
   "metadata": {},
   "outputs": [],
   "source": [
    "data_set = assembler.transform(real_estate)"
   ]
  },
  {
   "cell_type": "code",
   "execution_count": 50,
   "id": "90f51e66",
   "metadata": {},
   "outputs": [
    {
     "name": "stdout",
     "output_type": "stream",
     "text": [
      "+--------------------+--------------------------+\n",
      "|            features|Y house price of unit area|\n",
      "+--------------------+--------------------------+\n",
      "|[2012.917,32.0,84...|                      37.9|\n",
      "|[2012.917,19.5,30...|                      42.2|\n",
      "+--------------------+--------------------------+\n",
      "only showing top 2 rows\n",
      "\n"
     ]
    }
   ],
   "source": [
    "data_set.select(['features','Y house price of unit area']).show(2)"
   ]
  },
  {
   "cell_type": "code",
   "execution_count": 48,
   "id": "841b7c5a",
   "metadata": {},
   "outputs": [],
   "source": [
    "final_data = data_set.select(['features','Y house price of unit area'])"
   ]
  },
  {
   "cell_type": "markdown",
   "id": "d40af311",
   "metadata": {},
   "source": [
    "### Split in train and test set"
   ]
  },
  {
   "cell_type": "code",
   "execution_count": 53,
   "id": "3bc5c29a",
   "metadata": {},
   "outputs": [],
   "source": [
    "train_data,test_data = final_data.randomSplit([0.7,0.3])"
   ]
  },
  {
   "cell_type": "markdown",
   "id": "0829e443",
   "metadata": {},
   "source": [
    "### Creating a regression model"
   ]
  },
  {
   "cell_type": "code",
   "execution_count": 51,
   "id": "6a942ec8",
   "metadata": {},
   "outputs": [],
   "source": [
    "from pyspark.ml.regression import LinearRegression\n",
    "# Create a Linear Regression Model object\n",
    "lr = LinearRegression(labelCol='Y house price of unit area')\n"
   ]
  },
  {
   "cell_type": "markdown",
   "id": "2b25e2ec",
   "metadata": {},
   "source": [
    "### Fitting the lr on your dataset"
   ]
  },
  {
   "cell_type": "code",
   "execution_count": 54,
   "id": "3ad51622",
   "metadata": {},
   "outputs": [
    {
     "name": "stderr",
     "output_type": "stream",
     "text": [
      "21/07/25 09:31:00 WARN Instrumentation: [3d2991b1] regParam is zero, which might cause numerical instability and overfitting.\n",
      "21/07/25 09:31:00 WARN BLAS: Failed to load implementation from: com.github.fommil.netlib.NativeSystemBLAS\n",
      "21/07/25 09:31:00 WARN BLAS: Failed to load implementation from: com.github.fommil.netlib.NativeRefBLAS\n",
      "21/07/25 09:31:01 WARN LAPACK: Failed to load implementation from: com.github.fommil.netlib.NativeSystemLAPACK\n",
      "21/07/25 09:31:01 WARN LAPACK: Failed to load implementation from: com.github.fommil.netlib.NativeRefLAPACK\n"
     ]
    }
   ],
   "source": [
    "lrModel = lr.fit(train_data)"
   ]
  },
  {
   "cell_type": "code",
   "execution_count": 55,
   "id": "d647de71",
   "metadata": {},
   "outputs": [
    {
     "name": "stdout",
     "output_type": "stream",
     "text": [
      "Coefficients: [5.649196072045626,-0.26946090706098574,-0.00402831404208306,1.2223939845496234,255.03432717013933,-9.897450753565913] Intercept: -16495.64908727448\n"
     ]
    }
   ],
   "source": [
    "## Print coeff\n",
    "print(\"Coefficients: {} Intercept: {}\".format(lrModel.coefficients,lrModel.intercept))"
   ]
  },
  {
   "cell_type": "code",
   "execution_count": 56,
   "id": "caae4e60",
   "metadata": {},
   "outputs": [],
   "source": [
    "test_stats = lrModel.evaluate(test_data)"
   ]
  },
  {
   "cell_type": "code",
   "execution_count": 58,
   "id": "408b2dd2",
   "metadata": {},
   "outputs": [
    {
     "name": "stdout",
     "output_type": "stream",
     "text": [
      "RMSE: 7.553238336636628\n",
      "R2: 0.6493363975473592\n",
      "R2: 57.051409370037256\n"
     ]
    }
   ],
   "source": [
    "print(f\"RMSE: {test_stats.rootMeanSquaredError}\")\n",
    "print(f\"R2: {test_stats.r2}\")\n",
    "print(f\"R2: {test_stats.meanSquaredError}\")"
   ]
  },
  {
   "cell_type": "code",
   "execution_count": 59,
   "id": "33521126",
   "metadata": {},
   "outputs": [
    {
     "ename": "AttributeError",
     "evalue": "'LinearRegressionModel' object has no attribute 'rootMeanSquaredError'",
     "output_type": "error",
     "traceback": [
      "\u001b[0;31m---------------------------------------------------------------------------\u001b[0m",
      "\u001b[0;31mAttributeError\u001b[0m                            Traceback (most recent call last)",
      "\u001b[0;32m/tmp/ipykernel_31/2300806484.py\u001b[0m in \u001b[0;36m<module>\u001b[0;34m\u001b[0m\n\u001b[0;32m----> 1\u001b[0;31m \u001b[0mlrModel\u001b[0m\u001b[0;34m.\u001b[0m\u001b[0mrootMeanSquaredError\u001b[0m\u001b[0;34m\u001b[0m\u001b[0;34m\u001b[0m\u001b[0m\n\u001b[0m",
      "\u001b[0;31mAttributeError\u001b[0m: 'LinearRegressionModel' object has no attribute 'rootMeanSquaredError'"
     ]
    }
   ],
   "source": [
    "lrModel.rootMeanSquaredError"
   ]
  },
  {
   "cell_type": "code",
   "execution_count": 62,
   "id": "f01f5924",
   "metadata": {},
   "outputs": [
    {
     "data": {
      "text/plain": [
       "9.217334553218093"
      ]
     },
     "execution_count": 62,
     "metadata": {},
     "output_type": "execute_result"
    }
   ],
   "source": [
    "lrModel.summary.rootMeanSquaredError"
   ]
  },
  {
   "cell_type": "code",
   "execution_count": null,
   "id": "d7dd2086",
   "metadata": {},
   "outputs": [],
   "source": []
  }
 ],
 "metadata": {
  "kernelspec": {
   "display_name": "Python 3 (ipykernel)",
   "language": "python",
   "name": "python3"
  },
  "language_info": {
   "codemirror_mode": {
    "name": "ipython",
    "version": 3
   },
   "file_extension": ".py",
   "mimetype": "text/x-python",
   "name": "python",
   "nbconvert_exporter": "python",
   "pygments_lexer": "ipython3",
   "version": "3.9.5"
  }
 },
 "nbformat": 4,
 "nbformat_minor": 5
}
